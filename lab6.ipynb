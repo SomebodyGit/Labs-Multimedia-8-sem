{
 "cells": [
  {
   "cell_type": "markdown",
   "id": "8a77807f92f26ee",
   "metadata": {},
   "source": [
    "# Лабораторная работа №6 Беспалов Вячеслав Алексеевич группа М8О-406Б-21"
   ]
  },
  {
   "cell_type": "code",
   "execution_count": 1,
   "id": "d2ea874ccc33981",
   "metadata": {
    "ExecuteTime": {
     "end_time": "2025-05-09T11:28:05.169715Z",
     "start_time": "2025-05-09T11:27:21.986905Z"
    }
   },
   "outputs": [
    {
     "name": "stdout",
     "output_type": "stream",
     "text": [
      "Collecting torch\n",
      "  Obtaining dependency information for torch from https://files.pythonhosted.org/packages/13/85/6c1092d4b06c3db1ed23d4106488750917156af0b24ab0a2d9951830b0e9/torch-2.7.0-cp311-cp311-win_amd64.whl.metadata\n",
      "  Using cached torch-2.7.0-cp311-cp311-win_amd64.whl.metadata (29 kB)\n",
      "Collecting torchvision\n",
      "  Obtaining dependency information for torchvision from https://files.pythonhosted.org/packages/e4/cf/8f9305cc0ea26badbbb3558ecae54c04a245429f03168f7fad502f8a5b25/torchvision-0.22.0-cp311-cp311-win_amd64.whl.metadata\n",
      "  Using cached torchvision-0.22.0-cp311-cp311-win_amd64.whl.metadata (6.3 kB)\n",
      "Collecting torchmetrics\n",
      "  Obtaining dependency information for torchmetrics from https://files.pythonhosted.org/packages/e0/ee/4d0a7213a6f412afb3483031009a3b970dd7bed3be24de95ab04fba1c05a/torchmetrics-1.7.1-py3-none-any.whl.metadata\n",
      "  Using cached torchmetrics-1.7.1-py3-none-any.whl.metadata (21 kB)\n",
      "Collecting kaggle\n",
      "  Obtaining dependency information for kaggle from https://files.pythonhosted.org/packages/14/83/7f29c7abe0d5dc769dad7da993382c3e4239ad63e1dd58414d129e0a4da2/kaggle-1.7.4.5-py3-none-any.whl.metadata\n",
      "  Downloading kaggle-1.7.4.5-py3-none-any.whl.metadata (16 kB)\n",
      "Collecting scikit-learn\n",
      "  Obtaining dependency information for scikit-learn from https://files.pythonhosted.org/packages/a1/a6/c5b78606743a1f28eae8f11973de6613a5ee87366796583fb74c67d54939/scikit_learn-1.6.1-cp311-cp311-win_amd64.whl.metadata\n",
      "  Downloading scikit_learn-1.6.1-cp311-cp311-win_amd64.whl.metadata (15 kB)\n",
      "Requirement already satisfied: matplotlib in c:\\users\\frede\\pycharmmiscproject\\.venv\\lib\\site-packages (3.10.3)\n",
      "Collecting filelock (from torch)\n",
      "  Obtaining dependency information for filelock from https://files.pythonhosted.org/packages/4d/36/2a115987e2d8c300a974597416d9de88f2444426de9571f4b59b2cca3acc/filelock-3.18.0-py3-none-any.whl.metadata\n",
      "  Using cached filelock-3.18.0-py3-none-any.whl.metadata (2.9 kB)\n",
      "Requirement already satisfied: typing-extensions>=4.10.0 in c:\\users\\frede\\pycharmmiscproject\\.venv\\lib\\site-packages (from torch) (4.13.2)\n",
      "Collecting sympy>=1.13.3 (from torch)\n",
      "  Obtaining dependency information for sympy>=1.13.3 from https://files.pythonhosted.org/packages/a2/09/77d55d46fd61b4a135c444fc97158ef34a095e5681d0a6c10b75bf356191/sympy-1.14.0-py3-none-any.whl.metadata\n",
      "  Using cached sympy-1.14.0-py3-none-any.whl.metadata (12 kB)\n",
      "Collecting networkx (from torch)\n",
      "  Obtaining dependency information for networkx from https://files.pythonhosted.org/packages/b9/54/dd730b32ea14ea797530a4479b2ed46a6fb250f682a9cfb997e968bf0261/networkx-3.4.2-py3-none-any.whl.metadata\n",
      "  Using cached networkx-3.4.2-py3-none-any.whl.metadata (6.3 kB)\n",
      "Requirement already satisfied: jinja2 in c:\\users\\frede\\pycharmmiscproject\\.venv\\lib\\site-packages (from torch) (3.1.6)\n",
      "Collecting fsspec (from torch)\n",
      "  Obtaining dependency information for fsspec from https://files.pythonhosted.org/packages/44/4b/e0cfc1a6f17e990f3e64b7d941ddc4acdc7b19d6edd51abf495f32b1a9e4/fsspec-2025.3.2-py3-none-any.whl.metadata\n",
      "  Using cached fsspec-2025.3.2-py3-none-any.whl.metadata (11 kB)\n",
      "Requirement already satisfied: numpy in c:\\users\\frede\\pycharmmiscproject\\.venv\\lib\\site-packages (from torchvision) (2.2.5)\n",
      "Requirement already satisfied: pillow!=8.3.*,>=5.3.0 in c:\\users\\frede\\pycharmmiscproject\\.venv\\lib\\site-packages (from torchvision) (11.2.1)\n",
      "Requirement already satisfied: packaging>17.1 in c:\\users\\frede\\pycharmmiscproject\\.venv\\lib\\site-packages (from torchmetrics) (25.0)\n",
      "Collecting lightning-utilities>=0.8.0 (from torchmetrics)\n",
      "  Obtaining dependency information for lightning-utilities>=0.8.0 from https://files.pythonhosted.org/packages/1a/c1/31b3184cba7b257a4a3b5ca5b88b9204ccb7aa02fe3c992280899293ed54/lightning_utilities-0.14.3-py3-none-any.whl.metadata\n",
      "  Using cached lightning_utilities-0.14.3-py3-none-any.whl.metadata (5.6 kB)\n",
      "Requirement already satisfied: bleach in c:\\users\\frede\\pycharmmiscproject\\.venv\\lib\\site-packages (from kaggle) (6.2.0)\n",
      "Requirement already satisfied: certifi>=14.05.14 in c:\\users\\frede\\pycharmmiscproject\\.venv\\lib\\site-packages (from kaggle) (2025.4.26)\n",
      "Requirement already satisfied: charset-normalizer in c:\\users\\frede\\pycharmmiscproject\\.venv\\lib\\site-packages (from kaggle) (3.4.2)\n",
      "Requirement already satisfied: idna in c:\\users\\frede\\pycharmmiscproject\\.venv\\lib\\site-packages (from kaggle) (3.10)\n",
      "Collecting protobuf (from kaggle)\n",
      "  Obtaining dependency information for protobuf from https://files.pythonhosted.org/packages/97/e9/7b9f1b259d509aef2b833c29a1f3c39185e2bf21c9c1be1cd11c22cb2149/protobuf-6.30.2-cp310-abi3-win_amd64.whl.metadata\n",
      "  Using cached protobuf-6.30.2-cp310-abi3-win_amd64.whl.metadata (593 bytes)\n",
      "Requirement already satisfied: python-dateutil>=2.5.3 in c:\\users\\frede\\pycharmmiscproject\\.venv\\lib\\site-packages (from kaggle) (2.9.0.post0)\n",
      "Collecting python-slugify (from kaggle)\n",
      "  Obtaining dependency information for python-slugify from https://files.pythonhosted.org/packages/a4/62/02da182e544a51a5c3ccf4b03ab79df279f9c60c5e82d5e8bec7ca26ac11/python_slugify-8.0.4-py2.py3-none-any.whl.metadata\n",
      "  Using cached python_slugify-8.0.4-py2.py3-none-any.whl.metadata (8.5 kB)\n",
      "Requirement already satisfied: requests in c:\\users\\frede\\pycharmmiscproject\\.venv\\lib\\site-packages (from kaggle) (2.32.3)\n",
      "Requirement already satisfied: setuptools>=21.0.0 in c:\\users\\frede\\pycharmmiscproject\\.venv\\lib\\site-packages (from kaggle) (68.2.0)\n",
      "Requirement already satisfied: six>=1.10 in c:\\users\\frede\\pycharmmiscproject\\.venv\\lib\\site-packages (from kaggle) (1.17.0)\n",
      "Collecting text-unidecode (from kaggle)\n",
      "  Obtaining dependency information for text-unidecode from https://files.pythonhosted.org/packages/a6/a5/c0b6468d3824fe3fde30dbb5e1f687b291608f9473681bbf7dabbf5a87d7/text_unidecode-1.3-py2.py3-none-any.whl.metadata\n",
      "  Using cached text_unidecode-1.3-py2.py3-none-any.whl.metadata (2.4 kB)\n",
      "Collecting tqdm (from kaggle)\n",
      "  Obtaining dependency information for tqdm from https://files.pythonhosted.org/packages/d0/30/dc54f88dd4a2b5dc8a0279bdd7270e735851848b762aeb1c1184ed1f6b14/tqdm-4.67.1-py3-none-any.whl.metadata\n",
      "  Using cached tqdm-4.67.1-py3-none-any.whl.metadata (57 kB)\n",
      "Requirement already satisfied: urllib3>=1.15.1 in c:\\users\\frede\\pycharmmiscproject\\.venv\\lib\\site-packages (from kaggle) (2.4.0)\n",
      "Requirement already satisfied: webencodings in c:\\users\\frede\\pycharmmiscproject\\.venv\\lib\\site-packages (from kaggle) (0.5.1)\n",
      "Collecting scipy>=1.6.0 (from scikit-learn)\n",
      "  Obtaining dependency information for scipy>=1.6.0 from https://files.pythonhosted.org/packages/ab/a7/0ddaf514ce8a8714f6ed243a2b391b41dbb65251affe21ee3077ec45ea9a/scipy-1.15.3-cp311-cp311-win_amd64.whl.metadata\n",
      "  Downloading scipy-1.15.3-cp311-cp311-win_amd64.whl.metadata (60 kB)\n",
      "     ---------------------------------------- 0.0/60.8 kB ? eta -:--:--\n",
      "     -------------------- ------------------- 30.7/60.8 kB 1.3 MB/s eta 0:00:01\n",
      "     ---------------------------------------- 60.8/60.8 kB 1.1 MB/s eta 0:00:00\n",
      "Collecting joblib>=1.2.0 (from scikit-learn)\n",
      "  Obtaining dependency information for joblib>=1.2.0 from https://files.pythonhosted.org/packages/da/d3/13ee227a148af1c693654932b8b0b02ed64af5e1f7406d56b088b57574cd/joblib-1.5.0-py3-none-any.whl.metadata\n",
      "  Downloading joblib-1.5.0-py3-none-any.whl.metadata (5.6 kB)\n",
      "Collecting threadpoolctl>=3.1.0 (from scikit-learn)\n",
      "  Obtaining dependency information for threadpoolctl>=3.1.0 from https://files.pythonhosted.org/packages/32/d5/f9a850d79b0851d1d4ef6456097579a9005b31fea68726a4ae5f2d82ddd9/threadpoolctl-3.6.0-py3-none-any.whl.metadata\n",
      "  Downloading threadpoolctl-3.6.0-py3-none-any.whl.metadata (13 kB)\n",
      "Requirement already satisfied: contourpy>=1.0.1 in c:\\users\\frede\\pycharmmiscproject\\.venv\\lib\\site-packages (from matplotlib) (1.3.2)\n",
      "Requirement already satisfied: cycler>=0.10 in c:\\users\\frede\\pycharmmiscproject\\.venv\\lib\\site-packages (from matplotlib) (0.12.1)\n",
      "Requirement already satisfied: fonttools>=4.22.0 in c:\\users\\frede\\pycharmmiscproject\\.venv\\lib\\site-packages (from matplotlib) (4.57.0)\n",
      "Requirement already satisfied: kiwisolver>=1.3.1 in c:\\users\\frede\\pycharmmiscproject\\.venv\\lib\\site-packages (from matplotlib) (1.4.8)\n",
      "Requirement already satisfied: pyparsing>=2.3.1 in c:\\users\\frede\\pycharmmiscproject\\.venv\\lib\\site-packages (from matplotlib) (3.2.3)\n",
      "Collecting mpmath<1.4,>=1.1.0 (from sympy>=1.13.3->torch)\n",
      "  Obtaining dependency information for mpmath<1.4,>=1.1.0 from https://files.pythonhosted.org/packages/43/e3/7d92a15f894aa0c9c4b49b8ee9ac9850d6e63b03c9c32c0367a13ae62209/mpmath-1.3.0-py3-none-any.whl.metadata\n",
      "  Using cached mpmath-1.3.0-py3-none-any.whl.metadata (8.6 kB)\n",
      "Requirement already satisfied: MarkupSafe>=2.0 in c:\\users\\frede\\pycharmmiscproject\\.venv\\lib\\site-packages (from jinja2->torch) (3.0.2)\n",
      "Requirement already satisfied: colorama in c:\\users\\frede\\pycharmmiscproject\\.venv\\lib\\site-packages (from tqdm->kaggle) (0.4.6)\n",
      "Using cached torch-2.7.0-cp311-cp311-win_amd64.whl (212.5 MB)\n",
      "Using cached torchvision-0.22.0-cp311-cp311-win_amd64.whl (1.7 MB)\n",
      "Using cached torchmetrics-1.7.1-py3-none-any.whl (961 kB)\n",
      "Downloading kaggle-1.7.4.5-py3-none-any.whl (181 kB)\n",
      "   ---------------------------------------- 0.0/181.2 kB ? eta -:--:--\n",
      "   -------------------- ------------------- 92.2/181.2 kB 2.6 MB/s eta 0:00:01\n",
      "   ---------------------------------------- 181.2/181.2 kB 2.7 MB/s eta 0:00:00\n",
      "Downloading scikit_learn-1.6.1-cp311-cp311-win_amd64.whl (11.1 MB)\n",
      "   ---------------------------------------- 0.0/11.1 MB ? eta -:--:--\n",
      "    --------------------------------------- 0.2/11.1 MB 7.6 MB/s eta 0:00:02\n",
      "   -- ------------------------------------- 0.6/11.1 MB 7.9 MB/s eta 0:00:02\n",
      "   ----- ---------------------------------- 1.4/11.1 MB 11.1 MB/s eta 0:00:01\n",
      "   ---------- ----------------------------- 3.0/11.1 MB 17.4 MB/s eta 0:00:01\n",
      "   ------------------- -------------------- 5.4/11.1 MB 24.9 MB/s eta 0:00:01\n",
      "   ---------------------------- ----------- 7.8/11.1 MB 29.5 MB/s eta 0:00:01\n",
      "   ------------------------------ --------- 8.4/11.1 MB 26.9 MB/s eta 0:00:01\n",
      "   ---------------------------------------  11.1/11.1 MB 38.5 MB/s eta 0:00:01\n",
      "   ---------------------------------------- 11.1/11.1 MB 36.3 MB/s eta 0:00:00\n",
      "Downloading joblib-1.5.0-py3-none-any.whl (307 kB)\n",
      "   ---------------------------------------- 0.0/307.7 kB ? eta -:--:--\n",
      "   -------------------------- ------------- 204.8/307.7 kB ? eta -:--:--\n",
      "   -------------------------- ------------- 204.8/307.7 kB ? eta -:--:--\n",
      "   -------------------------- ------------- 204.8/307.7 kB ? eta -:--:--\n",
      "   -------------------------- ------------- 204.8/307.7 kB ? eta -:--:--\n",
      "   -------------------------- ------------- 204.8/307.7 kB ? eta -:--:--\n",
      "   --------------------------- ---------- 225.3/307.7 kB 811.5 kB/s eta 0:00:01\n",
      "   ------------------------------- ------ 256.0/307.7 kB 787.7 kB/s eta 0:00:01\n",
      "   -------------------------------------  307.2/307.7 kB 827.2 kB/s eta 0:00:01\n",
      "   -------------------------------------- 307.7/307.7 kB 828.5 kB/s eta 0:00:00\n",
      "Using cached lightning_utilities-0.14.3-py3-none-any.whl (28 kB)\n",
      "Downloading scipy-1.15.3-cp311-cp311-win_amd64.whl (41.2 MB)\n",
      "   ---------------------------------------- 0.0/41.2 MB ? eta -:--:--\n",
      "   - -------------------------------------- 1.8/41.2 MB 58.5 MB/s eta 0:00:01\n",
      "   - -------------------------------------- 2.0/41.2 MB 20.7 MB/s eta 0:00:02\n",
      "   ---- ----------------------------------- 5.1/41.2 MB 36.1 MB/s eta 0:00:02\n",
      "   ------- -------------------------------- 8.0/41.2 MB 42.8 MB/s eta 0:00:01\n",
      "   ----------- ---------------------------- 11.4/41.2 MB 50.4 MB/s eta 0:00:01\n",
      "   ------------- -------------------------- 14.4/41.2 MB 65.6 MB/s eta 0:00:01\n",
      "   ---------------- ----------------------- 17.5/41.2 MB 65.6 MB/s eta 0:00:01\n",
      "   -------------------- ------------------- 20.7/41.2 MB 65.6 MB/s eta 0:00:01\n",
      "   ---------------------- ----------------- 23.1/41.2 MB 59.5 MB/s eta 0:00:01\n",
      "   ------------------------- -------------- 26.5/41.2 MB 59.5 MB/s eta 0:00:01\n",
      "   ---------------------------- ----------- 29.2/41.2 MB 65.6 MB/s eta 0:00:01\n",
      "   ------------------------------- -------- 32.1/41.2 MB 65.2 MB/s eta 0:00:01\n",
      "   --------------------------------- ------ 34.9/41.2 MB 65.2 MB/s eta 0:00:01\n",
      "   ------------------------------------ --- 37.8/41.2 MB 65.6 MB/s eta 0:00:01\n",
      "   -------------------------------------- - 40.1/41.2 MB 59.5 MB/s eta 0:00:01\n",
      "   ---------------------------------------  41.2/41.2 MB 54.4 MB/s eta 0:00:01\n",
      "   ---------------------------------------- 41.2/41.2 MB 40.9 MB/s eta 0:00:00\n",
      "Using cached sympy-1.14.0-py3-none-any.whl (6.3 MB)\n",
      "Downloading threadpoolctl-3.6.0-py3-none-any.whl (18 kB)\n",
      "Using cached filelock-3.18.0-py3-none-any.whl (16 kB)\n",
      "Using cached fsspec-2025.3.2-py3-none-any.whl (194 kB)\n",
      "Using cached networkx-3.4.2-py3-none-any.whl (1.7 MB)\n",
      "Using cached protobuf-6.30.2-cp310-abi3-win_amd64.whl (431 kB)\n",
      "Using cached python_slugify-8.0.4-py2.py3-none-any.whl (10 kB)\n",
      "Using cached text_unidecode-1.3-py2.py3-none-any.whl (78 kB)\n",
      "Using cached tqdm-4.67.1-py3-none-any.whl (78 kB)\n",
      "Using cached mpmath-1.3.0-py3-none-any.whl (536 kB)\n",
      "Installing collected packages: text-unidecode, mpmath, tqdm, threadpoolctl, sympy, scipy, python-slugify, protobuf, networkx, lightning-utilities, joblib, fsspec, filelock, torch, scikit-learn, kaggle, torchvision, torchmetrics\n",
      "Successfully installed filelock-3.18.0 fsspec-2025.3.2 joblib-1.5.0 kaggle-1.7.4.5 lightning-utilities-0.14.3 mpmath-1.3.0 networkx-3.4.2 protobuf-6.30.2 python-slugify-8.0.4 scikit-learn-1.6.1 scipy-1.15.3 sympy-1.14.0 text-unidecode-1.3 threadpoolctl-3.6.0 torch-2.7.0 torchmetrics-1.7.1 torchvision-0.22.0 tqdm-4.67.1\n"
     ]
    },
    {
     "name": "stderr",
     "output_type": "stream",
     "text": [
      "\n",
      "[notice] A new release of pip is available: 23.2.1 -> 25.1.1\n",
      "[notice] To update, run: python.exe -m pip install --upgrade pip\n"
     ]
    }
   ],
   "source": [
    "!pip install --upgrade torch torchvision torchmetrics kaggle scikit-learn matplotlib\n"
   ]
  },
  {
   "cell_type": "code",
   "execution_count": 1,
   "id": "fbc121e30a2defb3",
   "metadata": {
    "ExecuteTime": {
     "end_time": "2025-05-09T14:32:07.866206Z",
     "start_time": "2025-05-09T14:32:06.380590Z"
    }
   },
   "outputs": [
    {
     "name": "stdout",
     "output_type": "stream",
     "text": [
      "train 3326, val 713, test 713\n"
     ]
    }
   ],
   "source": [
    "from sklearn.model_selection import train_test_split\n",
    "import pandas as pd\n",
    "import zipfile, os, shutil, random, pathlib\n",
    "\n",
    "\n",
    "\n",
    "DATA_DIR = pathlib.Path(\"./archive/eye-diseases-main/EyeDiseases\")\n",
    "all_images = []\n",
    "for class_idx, class_name in enumerate(sorted(p.name for p in DATA_DIR.iterdir())):\n",
    "    for img_path in (DATA_DIR / class_name).glob(\"*\"):\n",
    "        all_images.append((img_path, class_idx, class_name))\n",
    "\n",
    "df = pd.DataFrame(all_images, columns=[\"path\", \"label\", \"class\"])\n",
    "train_df, tmp_df = train_test_split(\n",
    "    df, test_size=0.30, random_state=42, stratify=df[\"label\"]\n",
    ")\n",
    "val_df, test_df  = train_test_split(\n",
    "    tmp_df, test_size=0.50, random_state=42, stratify=tmp_df[\"label\"]\n",
    ")\n",
    "print(f\"train {len(train_df)}, val {len(val_df)}, test {len(test_df)}\")\n",
    "\n"
   ]
  },
  {
   "cell_type": "code",
   "execution_count": 2,
   "id": "b258789e294ded5e",
   "metadata": {
    "ExecuteTime": {
     "end_time": "2025-05-09T14:32:17.608911Z",
     "start_time": "2025-05-09T14:32:13.238012Z"
    }
   },
   "outputs": [],
   "source": [
    "import torch\n",
    "from torchvision import transforms\n",
    "from PIL import Image\n",
    "\n",
    "IMG_SIZE = 224\n",
    "train_tfms = transforms.Compose([\n",
    "    transforms.RandomResizedCrop(IMG_SIZE),\n",
    "    transforms.RandomHorizontalFlip(),\n",
    "    transforms.ToTensor(),\n",
    "    transforms.Normalize(mean=[0.485,0.456,0.406],\n",
    "                         std=[0.229,0.224,0.225]),\n",
    "])\n",
    "val_tfms = transforms.Compose([\n",
    "    transforms.Resize(IMG_SIZE + 32),\n",
    "    transforms.CenterCrop(IMG_SIZE),\n",
    "    transforms.ToTensor(),\n",
    "    transforms.Normalize(mean=[0.485,0.456,0.406],\n",
    "                         std=[0.229,0.224,0.225]),\n",
    "])\n",
    "\n",
    "class DFImageDataset(torch.utils.data.Dataset):\n",
    "    def __init__(self, df, tfms):\n",
    "        self.df = df.reset_index(drop=True)\n",
    "        self.tfms = tfms\n",
    "    def __len__(self): return len(self.df)\n",
    "    def __getitem__(self, idx):\n",
    "        row = self.df.iloc[idx]\n",
    "        img = Image.open(row.path).convert(\"RGB\")\n",
    "        return self.tfms(img), row.label\n",
    "\n",
    "train_ds = DFImageDataset(train_df, train_tfms)\n",
    "val_ds   = DFImageDataset(val_df,   val_tfms)\n",
    "test_ds  = DFImageDataset(test_df,  val_tfms)\n",
    "\n",
    "batch_size = 32\n",
    "train_dl = torch.utils.data.DataLoader(train_ds, batch_size=batch_size,\n",
    "                                       shuffle=True,  num_workers=0, pin_memory=True, persistent_workers = False)\n",
    "val_dl   = torch.utils.data.DataLoader(val_ds,   batch_size=batch_size,\n",
    "                                       shuffle=False, num_workers=0, pin_memory=True, persistent_workers = False)\n",
    "test_dl  = torch.utils.data.DataLoader(test_ds,  batch_size=batch_size,\n",
    "                                       shuffle=False, num_workers=0, pin_memory=True, persistent_workers = False)\n"
   ]
  },
  {
   "cell_type": "code",
   "execution_count": 3,
   "id": "f20966853d641694",
   "metadata": {
    "ExecuteTime": {
     "end_time": "2025-05-09T14:32:21.645520Z",
     "start_time": "2025-05-09T14:32:20.723811Z"
    }
   },
   "outputs": [
    {
     "name": "stdout",
     "output_type": "stream",
     "text": [
      "cuda\n"
     ]
    }
   ],
   "source": [
    "from torchmetrics.classification import (\n",
    "    MulticlassAccuracy,\n",
    "    MulticlassF1Score,\n",
    "    MulticlassConfusionMatrix,\n",
    ")\n",
    "\n",
    "NUM_CLASSES = len(train_df[\"label\"].unique())\n",
    "\n",
    "# ­--- создаём метрики ---\n",
    "metrics = {\n",
    "    \"acc\"      : MulticlassAccuracy(num_classes=NUM_CLASSES, average=\"micro\"),   # обычный accuracy\n",
    "    \"f1_macro\" : MulticlassF1Score(num_classes=NUM_CLASSES, average=\"macro\"),\n",
    "    \"f1_weight\": MulticlassF1Score(num_classes=NUM_CLASSES, average=\"weighted\"),\n",
    "    \"top3\"     : MulticlassAccuracy(num_classes=NUM_CLASSES, top_k=3),           # top-3 accuracy\n",
    "    \"cm\"       : MulticlassConfusionMatrix(num_classes=NUM_CLASSES, normalize=None),\n",
    "}\n",
    "\n",
    "# переносим на GPU (если есть)\n",
    "device = \"cuda\" if torch.cuda.is_available() else \"cpu\"\n",
    "for m in metrics.values():\n",
    "    m.to(device)\n",
    "print(device)"
   ]
  },
  {
   "cell_type": "code",
   "execution_count": 4,
   "id": "dd6983c56aba7c59",
   "metadata": {
    "ExecuteTime": {
     "end_time": "2025-05-09T14:32:24.592071Z",
     "start_time": "2025-05-09T14:32:24.587743Z"
    }
   },
   "outputs": [
    {
     "name": "stdout",
     "output_type": "stream",
     "text": [
      "2.7.0+cu118\n",
      "True\n",
      "NVIDIA GeForce RTX 4060\n"
     ]
    }
   ],
   "source": [
    "import torch\n",
    "print(torch.__version__)\n",
    "print(torch.cuda.is_available())\n",
    "print(torch.cuda.get_device_name(0))\n"
   ]
  },
  {
   "cell_type": "code",
   "execution_count": 5,
   "id": "f2874c83d706cfe3",
   "metadata": {
    "ExecuteTime": {
     "end_time": "2025-05-09T14:32:26.423633Z",
     "start_time": "2025-05-09T14:32:26.419211Z"
    }
   },
   "outputs": [
    {
     "name": "stdout",
     "output_type": "stream",
     "text": [
      "cuda\n"
     ]
    }
   ],
   "source": [
    "device = torch.device(\"cuda\" if torch.cuda.is_available() else \"cpu\")\n",
    "print(device)\n"
   ]
  },
  {
   "cell_type": "code",
   "execution_count": 6,
   "id": "12e079c8415a4289",
   "metadata": {
    "ExecuteTime": {
     "end_time": "2025-05-09T14:32:33.373242Z",
     "start_time": "2025-05-09T14:32:33.307999Z"
    }
   },
   "outputs": [],
   "source": [
    "import torch.nn as nn\n",
    "import torch.nn.functional as F\n",
    "from tqdm.auto import tqdm\n",
    "\n",
    "def train_one_epoch(model, dl, optimizer, scheduler, device):\n",
    "    model.train()\n",
    "    run_loss = 0.0\n",
    "    for xb, yb in tqdm(dl, leave=False):\n",
    "        xb, yb = xb.to(device, non_blocking=True), yb.to(device, non_blocking=True)\n",
    "        optimizer.zero_grad(set_to_none=True)\n",
    "        preds = model(xb)\n",
    "        loss = F.cross_entropy(preds, yb)\n",
    "        loss.backward()\n",
    "        optimizer.step()\n",
    "        run_loss += loss.item() * xb.size(0)\n",
    "    if scheduler: scheduler.step()\n",
    "    return run_loss / len(dl.dataset)\n",
    "\n",
    "@torch.no_grad()\n",
    "def evaluate(model, dl, device):\n",
    "    for m in metrics.values():          # 6.1 — обнуляем\n",
    "        m.reset()\n",
    "\n",
    "    model.eval()\n",
    "    run_loss = 0.0\n",
    "    for xb, yb in dl:                   # 6.2 — прямой проход\n",
    "        xb, yb = xb.to(device, non_blocking=True), yb.to(device, non_blocking=True)\n",
    "        logits = model(xb)\n",
    "        run_loss += F.cross_entropy(logits, yb, reduction=\"sum\").item()\n",
    "        for m in metrics.values():      # 6.3 — обновляем все метрики\n",
    "            m.update(logits, yb)\n",
    "\n",
    "    # 6.4 — собираем результаты\n",
    "    res = {\"loss\": run_loss / len(dl.dataset)}\n",
    "    for k, m in metrics.items():\n",
    "        res[k] = m.compute().cpu().numpy() if k == \"cm\" else m.compute().item()\n",
    "    return res\n"
   ]
  },
  {
   "cell_type": "code",
   "execution_count": 8,
   "id": "b66d099e58d451be",
   "metadata": {
    "ExecuteTime": {
     "end_time": "2025-05-09T14:39:04.343824Z",
     "start_time": "2025-05-09T14:32:45.627855Z"
    }
   },
   "outputs": [
    {
     "data": {
      "application/vnd.jupyter.widget-view+json": {
       "model_id": "d0551d728d764e72943652bf9f9eb612",
       "version_major": 2,
       "version_minor": 0
      },
      "text/plain": [
       "  0%|          | 0/104 [00:00<?, ?it/s]"
      ]
     },
     "metadata": {},
     "output_type": "display_data"
    },
    {
     "name": "stdout",
     "output_type": "stream",
     "text": [
      "[01] loss_tr=1.291 | loss_val=0.722 | Acc=74.614% | F1(ma)=73.700% | F1(we)=74.099% | Top-3=94.689%\n"
     ]
    },
    {
     "data": {
      "application/vnd.jupyter.widget-view+json": {
       "model_id": "2f7091c763d44303bd148b93ad6d242d",
       "version_major": 2,
       "version_minor": 0
      },
      "text/plain": [
       "  0%|          | 0/104 [00:00<?, ?it/s]"
      ]
     },
     "metadata": {},
     "output_type": "display_data"
    },
    {
     "name": "stdout",
     "output_type": "stream",
     "text": [
      "[02] loss_tr=0.677 | loss_val=0.517 | Acc=83.450% | F1(ma)=82.955% | F1(we)=83.433% | Top-3=96.241%\n"
     ]
    },
    {
     "data": {
      "application/vnd.jupyter.widget-view+json": {
       "model_id": "7835ff9700584ad184975a951c2361d4",
       "version_major": 2,
       "version_minor": 0
      },
      "text/plain": [
       "  0%|          | 0/104 [00:00<?, ?it/s]"
      ]
     },
     "metadata": {},
     "output_type": "display_data"
    },
    {
     "name": "stdout",
     "output_type": "stream",
     "text": [
      "[03] loss_tr=0.515 | loss_val=0.424 | Acc=86.255% | F1(ma)=85.968% | F1(we)=86.235% | Top-3=97.378%\n"
     ]
    },
    {
     "data": {
      "application/vnd.jupyter.widget-view+json": {
       "model_id": "aeba14695d804208a0b99bd0c3692c5f",
       "version_major": 2,
       "version_minor": 0
      },
      "text/plain": [
       "  0%|          | 0/104 [00:00<?, ?it/s]"
      ]
     },
     "metadata": {},
     "output_type": "display_data"
    },
    {
     "name": "stdout",
     "output_type": "stream",
     "text": [
      "[04] loss_tr=0.417 | loss_val=0.367 | Acc=87.798% | F1(ma)=87.406% | F1(we)=87.731% | Top-3=97.883%\n"
     ]
    },
    {
     "data": {
      "application/vnd.jupyter.widget-view+json": {
       "model_id": "9691a95d5f3f413dbd2628c01b5bdca3",
       "version_major": 2,
       "version_minor": 0
      },
      "text/plain": [
       "  0%|          | 0/104 [00:00<?, ?it/s]"
      ]
     },
     "metadata": {},
     "output_type": "display_data"
    },
    {
     "name": "stdout",
     "output_type": "stream",
     "text": [
      "[05] loss_tr=0.350 | loss_val=0.344 | Acc=88.499% | F1(ma)=88.062% | F1(we)=88.434% | Top-3=98.896%\n"
     ]
    },
    {
     "data": {
      "application/vnd.jupyter.widget-view+json": {
       "model_id": "d7439614651d493aaf376e3d3c26d229",
       "version_major": 2,
       "version_minor": 0
      },
      "text/plain": [
       "  0%|          | 0/104 [00:00<?, ?it/s]"
      ]
     },
     "metadata": {},
     "output_type": "display_data"
    },
    {
     "name": "stdout",
     "output_type": "stream",
     "text": [
      "[06] loss_tr=0.294 | loss_val=0.328 | Acc=89.060% | F1(ma)=88.989% | F1(we)=88.931% | Top-3=98.447%\n"
     ]
    },
    {
     "data": {
      "application/vnd.jupyter.widget-view+json": {
       "model_id": "d7d6c4879c0e4f83942f15da5411978c",
       "version_major": 2,
       "version_minor": 0
      },
      "text/plain": [
       "  0%|          | 0/104 [00:00<?, ?it/s]"
      ]
     },
     "metadata": {},
     "output_type": "display_data"
    },
    {
     "name": "stdout",
     "output_type": "stream",
     "text": [
      "[07] loss_tr=0.258 | loss_val=0.333 | Acc=87.377% | F1(ma)=87.345% | F1(we)=87.356% | Top-3=98.300%\n"
     ]
    },
    {
     "data": {
      "application/vnd.jupyter.widget-view+json": {
       "model_id": "4bb0ecb407384dce89447beeb9c689f7",
       "version_major": 2,
       "version_minor": 0
      },
      "text/plain": [
       "  0%|          | 0/104 [00:00<?, ?it/s]"
      ]
     },
     "metadata": {},
     "output_type": "display_data"
    },
    {
     "name": "stdout",
     "output_type": "stream",
     "text": [
      "[08] loss_tr=0.230 | loss_val=0.293 | Acc=89.762% | F1(ma)=89.123% | F1(we)=89.670% | Top-3=98.827%\n"
     ]
    },
    {
     "data": {
      "application/vnd.jupyter.widget-view+json": {
       "model_id": "71720aa98aea414c875bb7fa6d55b9e3",
       "version_major": 2,
       "version_minor": 0
      },
      "text/plain": [
       "  0%|          | 0/104 [00:00<?, ?it/s]"
      ]
     },
     "metadata": {},
     "output_type": "display_data"
    },
    {
     "name": "stdout",
     "output_type": "stream",
     "text": [
      "[09] loss_tr=0.205 | loss_val=0.291 | Acc=90.182% | F1(ma)=89.966% | F1(we)=90.080% | Top-3=98.847%\n"
     ]
    },
    {
     "data": {
      "application/vnd.jupyter.widget-view+json": {
       "model_id": "bfef31e0682044c7be46063f32c4392b",
       "version_major": 2,
       "version_minor": 0
      },
      "text/plain": [
       "  0%|          | 0/104 [00:00<?, ?it/s]"
      ]
     },
     "metadata": {},
     "output_type": "display_data"
    },
    {
     "name": "stdout",
     "output_type": "stream",
     "text": [
      "[10] loss_tr=0.185 | loss_val=0.293 | Acc=89.902% | F1(ma)=89.663% | F1(we)=89.835% | Top-3=98.806%\n"
     ]
    },
    {
     "data": {
      "application/vnd.jupyter.widget-view+json": {
       "model_id": "d56c29df402745ce897ab3f8ed1f0bd5",
       "version_major": 2,
       "version_minor": 0
      },
      "text/plain": [
       "  0%|          | 0/104 [00:00<?, ?it/s]"
      ]
     },
     "metadata": {},
     "output_type": "display_data"
    },
    {
     "name": "stdout",
     "output_type": "stream",
     "text": [
      "[11] loss_tr=0.178 | loss_val=0.266 | Acc=90.884% | F1(ma)=90.623% | F1(we)=90.747% | Top-3=99.145%\n"
     ]
    },
    {
     "data": {
      "application/vnd.jupyter.widget-view+json": {
       "model_id": "9aa0ec1a57a24ba79f8cb37c81203cf5",
       "version_major": 2,
       "version_minor": 0
      },
      "text/plain": [
       "  0%|          | 0/104 [00:00<?, ?it/s]"
      ]
     },
     "metadata": {},
     "output_type": "display_data"
    },
    {
     "name": "stdout",
     "output_type": "stream",
     "text": [
      "[12] loss_tr=0.163 | loss_val=0.271 | Acc=90.603% | F1(ma)=90.683% | F1(we)=90.530% | Top-3=99.375%\n"
     ]
    },
    {
     "data": {
      "application/vnd.jupyter.widget-view+json": {
       "model_id": "a971eadb9760408c88ab1ec3d1d0099e",
       "version_major": 2,
       "version_minor": 0
      },
      "text/plain": [
       "  0%|          | 0/104 [00:00<?, ?it/s]"
      ]
     },
     "metadata": {},
     "output_type": "display_data"
    },
    {
     "name": "stdout",
     "output_type": "stream",
     "text": [
      "[13] loss_tr=0.161 | loss_val=0.285 | Acc=90.743% | F1(ma)=90.760% | F1(we)=90.655% | Top-3=98.491%\n"
     ]
    },
    {
     "data": {
      "application/vnd.jupyter.widget-view+json": {
       "model_id": "bfb3051a07d84162850d8db53a5bca57",
       "version_major": 2,
       "version_minor": 0
      },
      "text/plain": [
       "  0%|          | 0/104 [00:00<?, ?it/s]"
      ]
     },
     "metadata": {},
     "output_type": "display_data"
    },
    {
     "name": "stdout",
     "output_type": "stream",
     "text": [
      "[14] loss_tr=0.138 | loss_val=0.256 | Acc=91.024% | F1(ma)=90.793% | F1(we)=90.973% | Top-3=98.855%\n"
     ]
    },
    {
     "data": {
      "application/vnd.jupyter.widget-view+json": {
       "model_id": "369b5cc0f1634063bbe988ff36b42cc2",
       "version_major": 2,
       "version_minor": 0
      },
      "text/plain": [
       "  0%|          | 0/104 [00:00<?, ?it/s]"
      ]
     },
     "metadata": {},
     "output_type": "display_data"
    },
    {
     "name": "stdout",
     "output_type": "stream",
     "text": [
      "[15] loss_tr=0.126 | loss_val=0.243 | Acc=91.164% | F1(ma)=90.752% | F1(we)=91.115% | Top-3=99.391%\n"
     ]
    }
   ],
   "source": [
    "from torchvision.models import resnet18, ResNet18_Weights\n",
    "\n",
    "cnn = resnet18(weights=ResNet18_Weights.DEFAULT)\n",
    "cnn.fc = nn.Linear(cnn.fc.in_features, NUM_CLASSES)\n",
    "cnn = cnn.to(device)\n",
    "\n",
    "optimizer = torch.optim.AdamW(cnn.parameters(), lr=1e-4, weight_decay=1e-4)\n",
    "scheduler = torch.optim.lr_scheduler.OneCycleLR(\n",
    "    optimizer, max_lr=1e-3,\n",
    "    steps_per_epoch=len(train_dl), epochs=15\n",
    ")\n",
    "\n",
    "for epoch in range(15):\n",
    "    t_loss = train_one_epoch(cnn, train_dl, optimizer, scheduler, device)\n",
    "    val_stats = evaluate(cnn, val_dl, device)\n",
    "    print(\n",
    "        f\"[{epoch+1:02d}] \"\n",
    "        f\"loss_tr={t_loss:.3f} | loss_val={val_stats['loss']:.3f} | \"\n",
    "        f\"Acc={val_stats['acc']:.3%} | \"\n",
    "        f\"F1(ma)={val_stats['f1_macro']:.3%} | F1(we)={val_stats['f1_weight']:.3%} | \"\n",
    "        f\"Top-3={val_stats['top3']:.3%}\"\n",
    "    )\n"
   ]
  },
  {
   "cell_type": "code",
   "execution_count": 11,
   "id": "f13f260432233cc",
   "metadata": {
    "ExecuteTime": {
     "end_time": "2025-05-09T14:46:30.256634Z",
     "start_time": "2025-05-09T14:39:21.155988Z"
    }
   },
   "outputs": [
    {
     "data": {
      "application/vnd.jupyter.widget-view+json": {
       "model_id": "1d505a27505247a5af54dcf9986e7bc1",
       "version_major": 2,
       "version_minor": 0
      },
      "text/plain": [
       "  0%|          | 0/104 [00:00<?, ?it/s]"
      ]
     },
     "metadata": {},
     "output_type": "display_data"
    },
    {
     "name": "stdout",
     "output_type": "stream",
     "text": [
      "[01] loss_tr=0.834 | loss_val=0.487 | Acc=82.188% | F1(ma)=82.049% | F1(we)=81.800% | Top-3=98.285%\n"
     ]
    },
    {
     "data": {
      "application/vnd.jupyter.widget-view+json": {
       "model_id": "3dedd89903694867be7e48da6267f819",
       "version_major": 2,
       "version_minor": 0
      },
      "text/plain": [
       "  0%|          | 0/104 [00:00<?, ?it/s]"
      ]
     },
     "metadata": {},
     "output_type": "display_data"
    },
    {
     "name": "stdout",
     "output_type": "stream",
     "text": [
      "[02] loss_tr=0.328 | loss_val=0.398 | Acc=86.115% | F1(ma)=85.767% | F1(we)=86.173% | Top-3=98.353%\n"
     ]
    },
    {
     "data": {
      "application/vnd.jupyter.widget-view+json": {
       "model_id": "acdc741fa0f94a7ca624bb78ee2033d6",
       "version_major": 2,
       "version_minor": 0
      },
      "text/plain": [
       "  0%|          | 0/104 [00:00<?, ?it/s]"
      ]
     },
     "metadata": {},
     "output_type": "display_data"
    },
    {
     "name": "stdout",
     "output_type": "stream",
     "text": [
      "[03] loss_tr=0.241 | loss_val=0.289 | Acc=90.042% | F1(ma)=90.171% | F1(we)=90.034% | Top-3=98.436%\n"
     ]
    },
    {
     "data": {
      "application/vnd.jupyter.widget-view+json": {
       "model_id": "574e7268e3f5405097b9a9fc951238a1",
       "version_major": 2,
       "version_minor": 0
      },
      "text/plain": [
       "  0%|          | 0/104 [00:00<?, ?it/s]"
      ]
     },
     "metadata": {},
     "output_type": "display_data"
    },
    {
     "name": "stdout",
     "output_type": "stream",
     "text": [
      "[04] loss_tr=0.166 | loss_val=0.270 | Acc=91.445% | F1(ma)=90.951% | F1(we)=91.392% | Top-3=98.463%\n"
     ]
    },
    {
     "data": {
      "application/vnd.jupyter.widget-view+json": {
       "model_id": "81a121616eee4783907aeefa8237e9d7",
       "version_major": 2,
       "version_minor": 0
      },
      "text/plain": [
       "  0%|          | 0/104 [00:00<?, ?it/s]"
      ]
     },
     "metadata": {},
     "output_type": "display_data"
    },
    {
     "name": "stdout",
     "output_type": "stream",
     "text": [
      "[05] loss_tr=0.114 | loss_val=0.228 | Acc=92.567% | F1(ma)=92.350% | F1(we)=92.555% | Top-3=99.104%\n"
     ]
    }
   ],
   "source": [
    "from torchvision.models import vit_b_16, ViT_B_16_Weights\n",
    "\n",
    "vit = vit_b_16(weights=ViT_B_16_Weights.DEFAULT)\n",
    "vit.heads.head = nn.Linear(vit.heads.head.in_features, NUM_CLASSES)\n",
    "vit = vit.to(device)\n",
    "\n",
    "optimizer = torch.optim.AdamW(vit.parameters(), lr=5e-5, weight_decay=1e-4)\n",
    "scheduler = torch.optim.lr_scheduler.CosineAnnealingLR(optimizer, T_max=10)\n",
    "\n",
    "for epoch in range(5):\n",
    "    t_loss = train_one_epoch(vit, train_dl, optimizer, scheduler, device)\n",
    "    val_stats = evaluate(vit, val_dl, device)\n",
    "    print(\n",
    "        f\"[{epoch+1:02d}] \"\n",
    "        f\"loss_tr={t_loss:.3f} | loss_val={val_stats['loss']:.3f} | \"\n",
    "        f\"Acc={val_stats['acc']:.3%} | \"\n",
    "        f\"F1(ma)={val_stats['f1_macro']:.3%} | F1(we)={val_stats['f1_weight']:.3%} | \"\n",
    "        f\"Top-3={val_stats['top3']:.3%}\"\n",
    "    )\n"
   ]
  },
  {
   "cell_type": "code",
   "execution_count": null,
   "id": "e4ac7b4bd6cac12d",
   "metadata": {
    "ExecuteTime": {
     "end_time": "2025-05-09T14:47:30.617133Z",
     "start_time": "2025-05-09T14:47:17.482388Z"
    }
   },
   "outputs": [
    {
     "name": "stdout",
     "output_type": "stream",
     "text": [
      "ResNet-18 — test:\n",
      "acc: 91.304%\n",
      "f1_macro: 91.663%\n",
      "f1_weight: 91.261%\n",
      "top3: 98.900%\n"
     ]
    },
    {
     "name": "stdout",
     "output_type": "stream",
     "text": [
      "\n",
      "ViT-B/16 — test:\n",
      "acc: 92.707%\n",
      "f1_macro: 93.172%\n",
      "f1_weight: 92.712%\n",
      "top3: 99.852%\n"
     ]
    }
   ],
   "source": [
    "test_cnn = evaluate(cnn, test_dl, device)\n",
    "test_vit = evaluate(vit, test_dl, device)\n",
    "\n",
    "\n",
    "print(\"ResNet-18 — test:\")\n",
    "for k in [\"acc\",\"f1_macro\",\"f1_weight\",\"top3\"]:\n",
    "    print(f\"{k}: {test_cnn[k]:.3%}\")\n",
    "\n",
    "print(\"\\nViT-B/16 — test:\")\n",
    "for k in [\"acc\",\"f1_macro\",\"f1_weight\",\"top3\"]:\n",
    "    print(f\"{k}: {test_vit[k]:.3%}\")\n"
   ]
  },
  {
   "cell_type": "markdown",
   "id": "c7490b923f08249a",
   "metadata": {},
   "source": [
    "# Улучшения бейзлайна"
   ]
  },
  {
   "cell_type": "code",
   "execution_count": 20,
   "id": "6d4dfdef44449157",
   "metadata": {
    "ExecuteTime": {
     "end_time": "2025-05-09T15:13:14.973842Z",
     "start_time": "2025-05-09T15:13:14.965558Z"
    }
   },
   "outputs": [
    {
     "name": "stdout",
     "output_type": "stream",
     "text": [
      "device = cuda\n"
     ]
    }
   ],
   "source": [
    "import torch, platform, random, time, numpy as np\n",
    "import torch.nn as nn, torch.nn.functional as F\n",
    "from torch.utils.data import DataLoader, WeightedRandomSampler\n",
    "from torch.cuda.amp import autocast, GradScaler\n",
    "from torchvision.transforms import v2                # новая API\n",
    "from torchmetrics.classification import (\n",
    "    MulticlassAccuracy,\n",
    "    MulticlassF1Score, MulticlassConfusionMatrix\n",
    ")\n",
    "\n",
    "SEED = 42\n",
    "random.seed(SEED); np.random.seed(SEED); torch.manual_seed(SEED)\n",
    "\n",
    "device = torch.device(\"cuda\" if torch.cuda.is_available() else \"cpu\")\n",
    "print(\"device =\", device)\n",
    "\n",
    "NUM_CLASSES = len(train_df[\"label\"].unique())\n"
   ]
  },
  {
   "cell_type": "markdown",
   "id": "55bc99a0175c7ad8",
   "metadata": {},
   "source": [
    "### Аугментация"
   ]
  },
  {
   "cell_type": "code",
   "execution_count": 27,
   "id": "461b2f11be8ee34e",
   "metadata": {
    "ExecuteTime": {
     "end_time": "2025-05-09T15:18:34.817687Z",
     "start_time": "2025-05-09T15:18:34.811846Z"
    }
   },
   "outputs": [],
   "source": [
    "IMG_SIZE = 224\n",
    "train_tfms = v2.Compose([\n",
    "    v2.Resize(int(IMG_SIZE*1.15), antialias=True),\n",
    "    v2.RandomCrop(IMG_SIZE),\n",
    "    v2.RandAugment(num_ops=2, magnitude=7),\n",
    "    v2.ColorJitter(0.2, 0.2, 0.2, 0.1),\n",
    "    v2.ToImage(),\n",
    "    v2.ToDtype(torch.float32, scale=True),\n",
    "    v2.Normalize([0.485,0.456,0.406], [0.229,0.224,0.225]),\n",
    "])\n",
    "val_tfms = v2.Compose([\n",
    "    v2.Resize(int(IMG_SIZE*1.15), antialias=True),\n",
    "    v2.CenterCrop(IMG_SIZE),\n",
    "    v2.ToImage(),\n",
    "    v2.ToDtype(torch.float32, scale=True),\n",
    "    v2.Normalize([0.485,0.456,0.406], [0.229,0.224,0.225]),\n",
    "])\n",
    "\n",
    "# обновляем объекты Dataset\n",
    "train_ds.tfms = train_tfms\n",
    "val_ds.tfms   = val_tfms\n",
    "test_ds.tfms  = val_tfms\n",
    "\n",
    "mixup_fn = v2.MixUp(alpha=0.4, num_classes=NUM_CLASSES)\n"
   ]
  },
  {
   "cell_type": "code",
   "execution_count": 28,
   "id": "a93693fd7a5bbd7a",
   "metadata": {
    "ExecuteTime": {
     "end_time": "2025-05-09T15:18:36.699755Z",
     "start_time": "2025-05-09T15:18:36.691680Z"
    }
   },
   "outputs": [],
   "source": [
    "NUM_WORKERS = 0\n",
    "BATCH = 32\n",
    "\n",
    "# веса классов для sampler и label smoothing loss\n",
    "class_cnt = train_df[\"label\"].value_counts().sort_index().values\n",
    "class_w   = 1. / torch.tensor(class_cnt, dtype=torch.float)\n",
    "loss_fn   = nn.CrossEntropyLoss(weight=class_w.to(device),\n",
    "                                label_smoothing=0.1)\n",
    "\n",
    "sample_w = class_w[train_df[\"label\"].values]\n",
    "sampler  = WeightedRandomSampler(sample_w, len(sample_w), replacement=True)\n",
    "\n",
    "train_dl = DataLoader(train_ds, batch_size=BATCH, sampler=sampler,\n",
    "                      num_workers=NUM_WORKERS, pin_memory=(device.type==\"cuda\"))\n",
    "val_dl   = DataLoader(val_ds,   batch_size=BATCH, shuffle=False,\n",
    "                      num_workers=NUM_WORKERS, pin_memory=(device.type==\"cuda\"))\n",
    "test_dl  = DataLoader(test_ds,  batch_size=BATCH, shuffle=False,\n",
    "                      num_workers=NUM_WORKERS, pin_memory=(device.type==\"cuda\"))\n"
   ]
  },
  {
   "cell_type": "code",
   "execution_count": 29,
   "id": "9f9a038d445802e9",
   "metadata": {
    "ExecuteTime": {
     "end_time": "2025-05-09T15:18:38.219486Z",
     "start_time": "2025-05-09T15:18:38.208973Z"
    }
   },
   "outputs": [],
   "source": [
    "metrics = {\n",
    "    \"acc\"      : MulticlassAccuracy(num_classes=NUM_CLASSES, average=\"micro\").to(device),\n",
    "    \"f1_macro\" : MulticlassF1Score(num_classes=NUM_CLASSES, average=\"macro\").to(device),\n",
    "    \"f1_weight\": MulticlassF1Score(num_classes=NUM_CLASSES, average=\"weighted\").to(device),\n",
    "    \"top3\"     : MulticlassAccuracy(num_classes=NUM_CLASSES, top_k=3).to(device),\n",
    "    \"cm\"       : MulticlassConfusionMatrix(num_classes=NUM_CLASSES).to(device),\n",
    "}\n"
   ]
  },
  {
   "cell_type": "code",
   "execution_count": 47,
   "id": "e9e42b3357c71765",
   "metadata": {
    "ExecuteTime": {
     "end_time": "2025-05-09T15:52:27.545993Z",
     "start_time": "2025-05-09T15:52:27.537268Z"
    }
   },
   "outputs": [],
   "source": [
    "\n",
    "\n",
    "scaler = torch.amp.GradScaler()\n",
    "\n",
    "def train_one_epoch(model, loader, opt, sch=None):\n",
    "    model.train(); run_loss = 0.0\n",
    "    for xb, yb in tqdm(loader, leave=False):\n",
    "        xb, yb = xb.to(device, non_blocking=True), yb.to(device, non_blocking=True)\n",
    "        xb, yb = mixup_fn(xb, yb)\n",
    "        opt.zero_grad(set_to_none=True)\n",
    "        with torch.amp.autocast(device_type=\"cuda\"):\n",
    "            preds = model(xb)\n",
    "            loss  = loss_fn(preds, yb)\n",
    "        scaler.scale(loss).backward()\n",
    "        scaler.step(opt); scaler.update()\n",
    "        run_loss += loss.item() * xb.size(0)\n",
    "    if sch: sch.step()\n",
    "    return run_loss / len(loader.dataset)\n",
    "\n",
    "@torch.no_grad()\n",
    "def evaluate(model, loader):\n",
    "    for m in metrics.values(): m.reset()\n",
    "    model.eval(); run_loss = 0.0\n",
    "    for xb, yb in loader:\n",
    "        xb, yb = xb.to(device), yb.to(device)\n",
    "        with torch.amp.autocast(device_type=\"cuda\"):\n",
    "            preds = model(xb)\n",
    "            loss  = loss_fn(preds, yb)\n",
    "        run_loss += loss.item() * xb.size(0)\n",
    "        for m in metrics.values(): m.update(preds, yb)\n",
    "    res = {\"loss\": run_loss / len(loader.dataset)}\n",
    "    for k,m in metrics.items():\n",
    "        res[k] = m.compute().cpu().numpy() if k==\"cm\" else m.compute().item()\n",
    "    return res\n"
   ]
  },
  {
   "cell_type": "markdown",
   "id": "804d12e48a856a9d",
   "metadata": {},
   "source": [
    "### resnet"
   ]
  },
  {
   "cell_type": "code",
   "execution_count": 48,
   "id": "dbc8263341ad869e",
   "metadata": {
    "ExecuteTime": {
     "end_time": "2025-05-09T16:02:24.116410Z",
     "start_time": "2025-05-09T15:52:29.099910Z"
    }
   },
   "outputs": [
    {
     "data": {
      "application/vnd.jupyter.widget-view+json": {
       "model_id": "f0756e6bcb71414c90618cfbac80504a",
       "version_major": 2,
       "version_minor": 0
      },
      "text/plain": [
       "  0%|          | 0/104 [00:00<?, ?it/s]"
      ]
     },
     "metadata": {},
     "output_type": "display_data"
    },
    {
     "name": "stdout",
     "output_type": "stream",
     "text": [
      "[00] loss_tr=0.005 | loss_val=1.056 | Acc=74.334% | F1(ma)=75.291% | F1(we)=74.013% | Top-3=95.454% | time=39.8s\n"
     ]
    },
    {
     "data": {
      "application/vnd.jupyter.widget-view+json": {
       "model_id": "401e0a9e3ae545dc9e2ceb61d6f31ee9",
       "version_major": 2,
       "version_minor": 0
      },
      "text/plain": [
       "  0%|          | 0/104 [00:00<?, ?it/s]"
      ]
     },
     "metadata": {},
     "output_type": "display_data"
    },
    {
     "name": "stdout",
     "output_type": "stream",
     "text": [
      "[01] loss_tr=0.004 | loss_val=0.974 | Acc=78.822% | F1(ma)=79.602% | F1(we)=78.351% | Top-3=96.608% | time=39.1s\n"
     ]
    },
    {
     "data": {
      "application/vnd.jupyter.widget-view+json": {
       "model_id": "8f19f29f6f8d4830943e04781de8a733",
       "version_major": 2,
       "version_minor": 0
      },
      "text/plain": [
       "  0%|          | 0/104 [00:00<?, ?it/s]"
      ]
     },
     "metadata": {},
     "output_type": "display_data"
    },
    {
     "name": "stdout",
     "output_type": "stream",
     "text": [
      "[02] loss_tr=0.003 | loss_val=0.949 | Acc=78.962% | F1(ma)=78.764% | F1(we)=78.776% | Top-3=97.366% | time=38.3s\n"
     ]
    },
    {
     "data": {
      "application/vnd.jupyter.widget-view+json": {
       "model_id": "5e6e6c20c44946cca42edfb3f5f7d042",
       "version_major": 2,
       "version_minor": 0
      },
      "text/plain": [
       "  0%|          | 0/104 [00:00<?, ?it/s]"
      ]
     },
     "metadata": {},
     "output_type": "display_data"
    },
    {
     "name": "stdout",
     "output_type": "stream",
     "text": [
      "[03] loss_tr=0.003 | loss_val=0.888 | Acc=84.712% | F1(ma)=85.193% | F1(we)=84.461% | Top-3=97.992% | time=39.1s\n"
     ]
    },
    {
     "data": {
      "application/vnd.jupyter.widget-view+json": {
       "model_id": "4d1fb63e82974ea0867353b70c47e53f",
       "version_major": 2,
       "version_minor": 0
      },
      "text/plain": [
       "  0%|          | 0/104 [00:00<?, ?it/s]"
      ]
     },
     "metadata": {},
     "output_type": "display_data"
    },
    {
     "name": "stdout",
     "output_type": "stream",
     "text": [
      "[04] loss_tr=0.003 | loss_val=0.896 | Acc=83.731% | F1(ma)=83.980% | F1(we)=83.550% | Top-3=98.121% | time=40.2s\n"
     ]
    },
    {
     "data": {
      "application/vnd.jupyter.widget-view+json": {
       "model_id": "99c53921ab764c9db230dc8446426105",
       "version_major": 2,
       "version_minor": 0
      },
      "text/plain": [
       "  0%|          | 0/104 [00:00<?, ?it/s]"
      ]
     },
     "metadata": {},
     "output_type": "display_data"
    },
    {
     "name": "stdout",
     "output_type": "stream",
     "text": [
      "[05] loss_tr=0.003 | loss_val=0.853 | Acc=86.396% | F1(ma)=86.559% | F1(we)=86.253% | Top-3=98.192% | time=39.8s\n"
     ]
    },
    {
     "data": {
      "application/vnd.jupyter.widget-view+json": {
       "model_id": "7f9d1cf5fe794e94aac618e83e39e29f",
       "version_major": 2,
       "version_minor": 0
      },
      "text/plain": [
       "  0%|          | 0/104 [00:00<?, ?it/s]"
      ]
     },
     "metadata": {},
     "output_type": "display_data"
    },
    {
     "name": "stdout",
     "output_type": "stream",
     "text": [
      "[06] loss_tr=0.003 | loss_val=0.848 | Acc=85.694% | F1(ma)=86.052% | F1(we)=85.483% | Top-3=98.272% | time=40.2s\n"
     ]
    },
    {
     "data": {
      "application/vnd.jupyter.widget-view+json": {
       "model_id": "f781912bd52b436299add5fb04947a5a",
       "version_major": 2,
       "version_minor": 0
      },
      "text/plain": [
       "  0%|          | 0/104 [00:00<?, ?it/s]"
      ]
     },
     "metadata": {},
     "output_type": "display_data"
    },
    {
     "name": "stdout",
     "output_type": "stream",
     "text": [
      "[07] loss_tr=0.003 | loss_val=0.847 | Acc=86.115% | F1(ma)=86.220% | F1(we)=85.989% | Top-3=98.329% | time=40.7s\n"
     ]
    },
    {
     "data": {
      "application/vnd.jupyter.widget-view+json": {
       "model_id": "5cb013dd190a40df8bf365c193b032f0",
       "version_major": 2,
       "version_minor": 0
      },
      "text/plain": [
       "  0%|          | 0/104 [00:00<?, ?it/s]"
      ]
     },
     "metadata": {},
     "output_type": "display_data"
    },
    {
     "name": "stdout",
     "output_type": "stream",
     "text": [
      "[08] loss_tr=0.003 | loss_val=0.831 | Acc=86.676% | F1(ma)=86.887% | F1(we)=86.562% | Top-3=98.583% | time=39.9s\n"
     ]
    },
    {
     "data": {
      "application/vnd.jupyter.widget-view+json": {
       "model_id": "9b19df417ef24cea84520d94e18f5630",
       "version_major": 2,
       "version_minor": 0
      },
      "text/plain": [
       "  0%|          | 0/104 [00:00<?, ?it/s]"
      ]
     },
     "metadata": {},
     "output_type": "display_data"
    },
    {
     "name": "stdout",
     "output_type": "stream",
     "text": [
      "[09] loss_tr=0.003 | loss_val=0.820 | Acc=87.798% | F1(ma)=88.044% | F1(we)=87.728% | Top-3=98.799% | time=40.0s\n"
     ]
    },
    {
     "data": {
      "application/vnd.jupyter.widget-view+json": {
       "model_id": "b71d00da5e58417d9d477378aaef3505",
       "version_major": 2,
       "version_minor": 0
      },
      "text/plain": [
       "  0%|          | 0/104 [00:00<?, ?it/s]"
      ]
     },
     "metadata": {},
     "output_type": "display_data"
    },
    {
     "name": "stdout",
     "output_type": "stream",
     "text": [
      "[10] loss_tr=0.003 | loss_val=0.871 | Acc=84.712% | F1(ma)=84.691% | F1(we)=84.659% | Top-3=97.607% | time=39.7s\n"
     ]
    },
    {
     "data": {
      "application/vnd.jupyter.widget-view+json": {
       "model_id": "dc97fbaaf8604326a37f45f3e0c71e46",
       "version_major": 2,
       "version_minor": 0
      },
      "text/plain": [
       "  0%|          | 0/104 [00:00<?, ?it/s]"
      ]
     },
     "metadata": {},
     "output_type": "display_data"
    },
    {
     "name": "stdout",
     "output_type": "stream",
     "text": [
      "[11] loss_tr=0.003 | loss_val=0.888 | Acc=84.011% | F1(ma)=83.928% | F1(we)=83.978% | Top-3=97.870% | time=40.1s\n"
     ]
    },
    {
     "data": {
      "application/vnd.jupyter.widget-view+json": {
       "model_id": "49a36c7f8daa4103872dcbe73314874b",
       "version_major": 2,
       "version_minor": 0
      },
      "text/plain": [
       "  0%|          | 0/104 [00:00<?, ?it/s]"
      ]
     },
     "metadata": {},
     "output_type": "display_data"
    },
    {
     "name": "stdout",
     "output_type": "stream",
     "text": [
      "[12] loss_tr=0.003 | loss_val=0.861 | Acc=86.816% | F1(ma)=86.951% | F1(we)=86.750% | Top-3=98.685% | time=39.8s\n"
     ]
    },
    {
     "data": {
      "application/vnd.jupyter.widget-view+json": {
       "model_id": "25f801725e394c94a457ff1712221cdd",
       "version_major": 2,
       "version_minor": 0
      },
      "text/plain": [
       "  0%|          | 0/104 [00:00<?, ?it/s]"
      ]
     },
     "metadata": {},
     "output_type": "display_data"
    },
    {
     "name": "stdout",
     "output_type": "stream",
     "text": [
      "[13] loss_tr=0.003 | loss_val=0.887 | Acc=84.572% | F1(ma)=84.684% | F1(we)=84.436% | Top-3=98.315% | time=39.3s\n"
     ]
    },
    {
     "data": {
      "application/vnd.jupyter.widget-view+json": {
       "model_id": "1aa026748c004da4acc74e1a24008bd0",
       "version_major": 2,
       "version_minor": 0
      },
      "text/plain": [
       "  0%|          | 0/104 [00:00<?, ?it/s]"
      ]
     },
     "metadata": {},
     "output_type": "display_data"
    },
    {
     "name": "stdout",
     "output_type": "stream",
     "text": [
      "[14] loss_tr=0.003 | loss_val=0.817 | Acc=88.079% | F1(ma)=88.054% | F1(we)=88.052% | Top-3=98.819% | time=38.9s\n"
     ]
    }
   ],
   "source": [
    "from torchvision.models import resnet18, ResNet18_Weights\n",
    "import time\n",
    "\n",
    "res = resnet18(weights=ResNet18_Weights.DEFAULT)\n",
    "res.fc = nn.Linear(res.fc.in_features, NUM_CLASSES)\n",
    "res = res.to(device)\n",
    "\n",
    "opt_res = torch.optim.AdamW(res.parameters(), lr=1e-4, weight_decay=1e-4)\n",
    "sch_res = torch.optim.lr_scheduler.CosineAnnealingWarmRestarts(opt_res, T_0=10)\n",
    "\n",
    "for epoch in range(15):\n",
    "    t0 = time.time()\n",
    "    loss_tr = train_one_epoch(res, train_dl, opt_res, sch_res)\n",
    "    val     = evaluate(res, val_dl)\n",
    "    print(\n",
    "        f\"[{epoch:02d}] \"\n",
    "        f\"loss_tr={loss_tr:.3f} | loss_val={val['loss']:.3f} | \"\n",
    "        f\"Acc={val['acc']:.3%} | \"\n",
    "        f\"F1(ma)={val['f1_macro']:.3%} | F1(we)={val['f1_weight']:.3%} | \"\n",
    "        f\"Top-3={val['top3']:.3%} | time={time.time()-t0:.1f}s\"\n",
    "    )\n"
   ]
  },
  {
   "cell_type": "markdown",
   "id": "aa60f6a54bc661b1",
   "metadata": {},
   "source": [
    "### ViT-B/16"
   ]
  },
  {
   "cell_type": "code",
   "execution_count": 49,
   "id": "7099e06d601473cb",
   "metadata": {
    "ExecuteTime": {
     "end_time": "2025-05-09T16:23:33.691193Z",
     "start_time": "2025-05-09T16:02:29.246856Z"
    }
   },
   "outputs": [
    {
     "data": {
      "application/vnd.jupyter.widget-view+json": {
       "model_id": "3b0e5c7bd56b48e48933474875b51be9",
       "version_major": 2,
       "version_minor": 0
      },
      "text/plain": [
       "  0%|          | 0/104 [00:00<?, ?it/s]"
      ]
     },
     "metadata": {},
     "output_type": "display_data"
    },
    {
     "name": "stdout",
     "output_type": "stream",
     "text": [
      "[00] loss_tr=0.004 | loss_val=0.999 | Acc=75.877% | F1(ma)=76.445% | F1(we)=74.648% | Top-3=95.862% | time=82.0s\n"
     ]
    },
    {
     "data": {
      "application/vnd.jupyter.widget-view+json": {
       "model_id": "1c7ffa876366414d83790f1321e167e3",
       "version_major": 2,
       "version_minor": 0
      },
      "text/plain": [
       "  0%|          | 0/104 [00:00<?, ?it/s]"
      ]
     },
     "metadata": {},
     "output_type": "display_data"
    },
    {
     "name": "stdout",
     "output_type": "stream",
     "text": [
      "[01] loss_tr=0.004 | loss_val=0.826 | Acc=85.414% | F1(ma)=85.959% | F1(we)=85.153% | Top-3=98.802% | time=93.4s\n"
     ]
    },
    {
     "data": {
      "application/vnd.jupyter.widget-view+json": {
       "model_id": "29f80b12422f45ce95ce13ee1921bee0",
       "version_major": 2,
       "version_minor": 0
      },
      "text/plain": [
       "  0%|          | 0/104 [00:00<?, ?it/s]"
      ]
     },
     "metadata": {},
     "output_type": "display_data"
    },
    {
     "name": "stdout",
     "output_type": "stream",
     "text": [
      "[02] loss_tr=0.003 | loss_val=0.819 | Acc=84.993% | F1(ma)=85.295% | F1(we)=84.617% | Top-3=97.866% | time=77.5s\n"
     ]
    },
    {
     "data": {
      "application/vnd.jupyter.widget-view+json": {
       "model_id": "a16760e7a8184832a91c8ceff8291127",
       "version_major": 2,
       "version_minor": 0
      },
      "text/plain": [
       "  0%|          | 0/104 [00:00<?, ?it/s]"
      ]
     },
     "metadata": {},
     "output_type": "display_data"
    },
    {
     "name": "stdout",
     "output_type": "stream",
     "text": [
      "[03] loss_tr=0.003 | loss_val=0.731 | Acc=88.920% | F1(ma)=89.805% | F1(we)=88.810% | Top-3=98.858% | time=79.4s\n"
     ]
    },
    {
     "data": {
      "application/vnd.jupyter.widget-view+json": {
       "model_id": "1f5a0c43b8344488ac5094b37787f1f1",
       "version_major": 2,
       "version_minor": 0
      },
      "text/plain": [
       "  0%|          | 0/104 [00:00<?, ?it/s]"
      ]
     },
     "metadata": {},
     "output_type": "display_data"
    },
    {
     "name": "stdout",
     "output_type": "stream",
     "text": [
      "[04] loss_tr=0.003 | loss_val=0.757 | Acc=88.079% | F1(ma)=88.178% | F1(we)=87.928% | Top-3=99.364% | time=78.7s\n"
     ]
    },
    {
     "data": {
      "application/vnd.jupyter.widget-view+json": {
       "model_id": "f015fa6cdaf64518987dd77d0dc28464",
       "version_major": 2,
       "version_minor": 0
      },
      "text/plain": [
       "  0%|          | 0/104 [00:00<?, ?it/s]"
      ]
     },
     "metadata": {},
     "output_type": "display_data"
    },
    {
     "name": "stdout",
     "output_type": "stream",
     "text": [
      "[05] loss_tr=0.003 | loss_val=0.703 | Acc=90.743% | F1(ma)=91.534% | F1(we)=90.688% | Top-3=99.743% | time=77.9s\n"
     ]
    },
    {
     "data": {
      "application/vnd.jupyter.widget-view+json": {
       "model_id": "d6a84c373bbf4a928802d29cf979016f",
       "version_major": 2,
       "version_minor": 0
      },
      "text/plain": [
       "  0%|          | 0/104 [00:00<?, ?it/s]"
      ]
     },
     "metadata": {},
     "output_type": "display_data"
    },
    {
     "name": "stdout",
     "output_type": "stream",
     "text": [
      "[06] loss_tr=0.003 | loss_val=0.684 | Acc=92.146% | F1(ma)=92.599% | F1(we)=92.092% | Top-3=99.676% | time=89.0s\n"
     ]
    },
    {
     "data": {
      "application/vnd.jupyter.widget-view+json": {
       "model_id": "b62d592905584f00af4b0f02eec2b9f3",
       "version_major": 2,
       "version_minor": 0
      },
      "text/plain": [
       "  0%|          | 0/104 [00:00<?, ?it/s]"
      ]
     },
     "metadata": {},
     "output_type": "display_data"
    },
    {
     "name": "stdout",
     "output_type": "stream",
     "text": [
      "[07] loss_tr=0.003 | loss_val=0.689 | Acc=91.585% | F1(ma)=92.221% | F1(we)=91.564% | Top-3=99.515% | time=79.8s\n"
     ]
    },
    {
     "data": {
      "application/vnd.jupyter.widget-view+json": {
       "model_id": "f7f4a4155c064c258418c5465e03d22c",
       "version_major": 2,
       "version_minor": 0
      },
      "text/plain": [
       "  0%|          | 0/104 [00:00<?, ?it/s]"
      ]
     },
     "metadata": {},
     "output_type": "display_data"
    },
    {
     "name": "stdout",
     "output_type": "stream",
     "text": [
      "[08] loss_tr=0.003 | loss_val=0.674 | Acc=92.567% | F1(ma)=92.921% | F1(we)=92.499% | Top-3=99.676% | time=74.5s\n"
     ]
    },
    {
     "data": {
      "application/vnd.jupyter.widget-view+json": {
       "model_id": "c42707f248d84f12a2755d950a7a6743",
       "version_major": 2,
       "version_minor": 0
      },
      "text/plain": [
       "  0%|          | 0/104 [00:00<?, ?it/s]"
      ]
     },
     "metadata": {},
     "output_type": "display_data"
    },
    {
     "name": "stdout",
     "output_type": "stream",
     "text": [
      "[09] loss_tr=0.003 | loss_val=0.674 | Acc=92.286% | F1(ma)=92.631% | F1(we)=92.203% | Top-3=99.676% | time=79.9s\n"
     ]
    },
    {
     "data": {
      "application/vnd.jupyter.widget-view+json": {
       "model_id": "f75f89205838457e85b05bc4f59262e8",
       "version_major": 2,
       "version_minor": 0
      },
      "text/plain": [
       "  0%|          | 0/104 [00:00<?, ?it/s]"
      ]
     },
     "metadata": {},
     "output_type": "display_data"
    },
    {
     "name": "stdout",
     "output_type": "stream",
     "text": [
      "[10] loss_tr=0.003 | loss_val=0.720 | Acc=90.182% | F1(ma)=90.754% | F1(we)=90.119% | Top-3=99.339% | time=81.7s\n"
     ]
    },
    {
     "data": {
      "application/vnd.jupyter.widget-view+json": {
       "model_id": "01970f92a48345b79b7f6bd651c92544",
       "version_major": 2,
       "version_minor": 0
      },
      "text/plain": [
       "  0%|          | 0/104 [00:00<?, ?it/s]"
      ]
     },
     "metadata": {},
     "output_type": "display_data"
    },
    {
     "name": "stdout",
     "output_type": "stream",
     "text": [
      "[11] loss_tr=0.003 | loss_val=0.710 | Acc=90.323% | F1(ma)=91.163% | F1(we)=90.446% | Top-3=99.315% | time=70.5s\n"
     ]
    },
    {
     "data": {
      "application/vnd.jupyter.widget-view+json": {
       "model_id": "be530bdc2c364f54a1ce94f3a9f2bdd4",
       "version_major": 2,
       "version_minor": 0
      },
      "text/plain": [
       "  0%|          | 0/104 [00:00<?, ?it/s]"
      ]
     },
     "metadata": {},
     "output_type": "display_data"
    },
    {
     "name": "stdout",
     "output_type": "stream",
     "text": [
      "[12] loss_tr=0.003 | loss_val=0.724 | Acc=89.201% | F1(ma)=89.402% | F1(we)=89.283% | Top-3=99.353% | time=89.5s\n"
     ]
    },
    {
     "data": {
      "application/vnd.jupyter.widget-view+json": {
       "model_id": "8531b7004bfc44c99a48f3f970e49935",
       "version_major": 2,
       "version_minor": 0
      },
      "text/plain": [
       "  0%|          | 0/104 [00:00<?, ?it/s]"
      ]
     },
     "metadata": {},
     "output_type": "display_data"
    },
    {
     "name": "stdout",
     "output_type": "stream",
     "text": [
      "[13] loss_tr=0.003 | loss_val=0.707 | Acc=91.024% | F1(ma)=91.404% | F1(we)=90.928% | Top-3=98.737% | time=105.9s\n"
     ]
    },
    {
     "data": {
      "application/vnd.jupyter.widget-view+json": {
       "model_id": "331b2d2edc01454cb5db8587c4d15153",
       "version_major": 2,
       "version_minor": 0
      },
      "text/plain": [
       "  0%|          | 0/104 [00:00<?, ?it/s]"
      ]
     },
     "metadata": {},
     "output_type": "display_data"
    },
    {
     "name": "stdout",
     "output_type": "stream",
     "text": [
      "[14] loss_tr=0.003 | loss_val=0.671 | Acc=92.847% | F1(ma)=93.212% | F1(we)=92.809% | Top-3=99.036% | time=103.8s\n"
     ]
    }
   ],
   "source": [
    "from torchvision.models import vit_b_16, ViT_B_16_Weights\n",
    "import time\n",
    "\n",
    "vit = vit_b_16(weights=ViT_B_16_Weights.DEFAULT)\n",
    "vit.heads.head = nn.Linear(vit.heads.head.in_features, NUM_CLASSES)\n",
    "vit = vit.to(device)\n",
    "\n",
    "opt_vit = torch.optim.AdamW(vit.parameters(), lr=5e-5, weight_decay=1e-4)\n",
    "sch_vit = torch.optim.lr_scheduler.CosineAnnealingWarmRestarts(opt_vit, T_0=10)\n",
    "\n",
    "for epoch in range(15):\n",
    "    t0 = time.time()\n",
    "    loss_tr = train_one_epoch(vit, train_dl, opt_vit, sch_vit)\n",
    "    val     = evaluate(vit, val_dl)\n",
    "    print(\n",
    "        f\"[{epoch:02d}] \"\n",
    "        f\"loss_tr={loss_tr:.3f} | loss_val={val['loss']:.3f} | \"\n",
    "        f\"Acc={val['acc']:.3%} | \"\n",
    "        f\"F1(ma)={val['f1_macro']:.3%} | F1(we)={val['f1_weight']:.3%} | \"\n",
    "        f\"Top-3={val['top3']:.3%} | time={time.time()-t0:.1f}s\"\n",
    "    )\n"
   ]
  },
  {
   "cell_type": "code",
   "execution_count": null,
   "id": "5c7af1416dda3a05",
   "metadata": {
    "ExecuteTime": {
     "end_time": "2025-05-09T16:30:40.590756Z",
     "start_time": "2025-05-09T16:30:29.920777Z"
    }
   },
   "outputs": [
    {
     "name": "stdout",
     "output_type": "stream",
     "text": [
      "ResNet-18 + aug — test:\n",
      "acc      : 88.359%\n",
      "f1_macro : 88.846%\n",
      "f1_weight: 88.278%\n",
      "top3     : 97.900%\n"
     ]
    },
    {
     "name": "stdout",
     "output_type": "stream",
     "text": [
      "\n",
      "ViT-B/16 + aug — test:\n",
      "acc      : 92.006%\n",
      "f1_macro : 93.200%\n",
      "f1_weight: 91.952%\n",
      "top3     : 99.233%\n"
     ]
    }
   ],
   "source": [
    "test_res_aug = evaluate(res, test_dl)\n",
    "test_vit_aug = evaluate(vit, test_dl)\n",
    "\n",
    "\n",
    "print(\"ResNet-18 + aug — test:\")\n",
    "for k in [\"acc\", \"f1_macro\", \"f1_weight\", \"top3\"]:\n",
    "    print(f\"{k:9s}: {test_res_aug[k]:.3%}\")\n",
    "\n",
    "print(\"\\nViT-B/16 + aug — test:\")\n",
    "for k in [\"acc\", \"f1_macro\", \"f1_weight\", \"top3\"]:\n",
    "    print(f\"{k:9s}: {test_vit_aug[k]:.3%}\")\n"
   ]
  },
  {
   "cell_type": "markdown",
   "id": "346f42448b559d78",
   "metadata": {},
   "source": [
    "#### Сравнивая с обыным бейзлайном, как будто ситуация осталась примерно такая же."
   ]
  }
 ],
 "metadata": {
  "kernelspec": {
   "display_name": "Python 3",
   "language": "python",
   "name": "python3"
  },
  "language_info": {
   "codemirror_mode": {
    "name": "ipython",
    "version": 2
   },
   "file_extension": ".py",
   "mimetype": "text/x-python",
   "name": "python",
   "nbconvert_exporter": "python",
   "pygments_lexer": "ipython2",
   "version": "2.7.6"
  }
 },
 "nbformat": 4,
 "nbformat_minor": 5
}
